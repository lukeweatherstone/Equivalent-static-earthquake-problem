{
 "cells": [
  {
   "cell_type": "markdown",
   "metadata": {},
   "source": [
    "# Static earthquake design problem to AS 5100.2-2017"
   ]
  },
  {
   "cell_type": "markdown",
   "metadata": {},
   "source": [
    "## Problem statement\n",
    "You are designing a two-span PSC plank bridge over a local creek to replace an existing bridge carrying a local council road in the Sutherland Shire Council area in NSW\n",
    "\n",
    "The bridge is approximately 6 m wide, has two equal spans of 15 m and is primarily supported by 535 deep PSC plank members. There is a 150 mm thick concrete deck with a waterproof membrane. Joints are strip seals at both abutments and the pier. The bridge has no skew. Girders sit on an elastomeric bearing strip.\n",
    "\n",
    "Abutment and pier headstocks are 1200x1000 reinforced concrete elements. The abutment and piers are supported on 2x 750 diameter piles/columns. Abutment piles are embedded 2 m into embankment fill and 2 m into rock. Pier piles are embedded 2 m into rock. Columns are 2 m tall."
   ]
  },
  {
   "cell_type": "markdown",
   "metadata": {},
   "source": [
    "## Questions\n",
    "1. Determine the bridge earthquake design category\n",
    "2. What is the level of analysis required?\n",
    "3. What do you recommend the design performance level of the bridge be?\n",
    "4. Determine the bridge frame horizontal earthquake force\n",
    "5. Determine the bridge frame vertical earthquake force\n",
    "6. Describe how you would use these forces to determine the earthquake design actions on bridge members."
   ]
  },
  {
   "cell_type": "markdown",
   "metadata": {},
   "source": [
    "### 1. Determine the earthquake design category\n",
    "* Looking at Clause 15.4 of AS 5100.2-2017\n",
    "* Adopt **BEDC-2** since our bridge has two or more spans, and is not considered to have a high volume of traffic"
   ]
  },
  {
   "cell_type": "markdown",
   "metadata": {},
   "source": [
    "### 2. What is the level of analysis required?\n",
    "* Consult Clause 15.4.3 of AS 5100.2-2017\n",
    "* We can determine earthquake actions using either static analysis or dynamic analysis\n",
    "* We'll use the **static analysis** in this instance"
   ]
  },
  {
   "cell_type": "markdown",
   "metadata": {},
   "source": [
    "### 3. What do you recommend the design performance level of the bridge be?\n",
    "* See Clause 15.5 of AS 5100.2-2017\n",
    "* Selecting **damage control performance level** since we have decided this structure is not essential for post-disaster use"
   ]
  },
  {
   "cell_type": "markdown",
   "metadata": {},
   "source": [
    "### 4. Determine the bridge frame horizontal earthquake force\n",
    "#### 4.1. Fundamental period\n",
    "The first thing we want to do is calculate the natural period of the structure. We could do this with a global finite element model, or using a simplified method. We'll use the simplified approach in Clause 6.2.3 of AS 1170.4-2007."
   ]
  },
  {
   "cell_type": "markdown",
   "metadata": {},
   "source": [
    "$$ T_1 = 1.25k_th_n^{0.75} $$"
   ]
  },
  {
   "cell_type": "markdown",
   "metadata": {},
   "source": [
    "The $ k_t $ factors will be different for the longitudinal and lateral directions we're considering."
   ]
  },
  {
   "cell_type": "code",
   "execution_count": 486,
   "metadata": {},
   "outputs": [],
   "source": [
    "# kt factor in the longitudinal direction. A concrete frame, and not moment-resisting\n",
    "kt_long = 0.05\n",
    "\n",
    "# kt factor in the lateral direction. The headstock forms a moment-resisting frame\n",
    "kt_lat = 0.075"
   ]
  },
  {
   "cell_type": "markdown",
   "metadata": {},
   "source": [
    "The height of the structure, $ h_n $, is the height from the base of the structure to the uppermost seismic weight or mass, **in metres**. Here, we're adopting the \"base of the structure\" to be the location of fixity in the socket, which we'll say is half-way into the rock."
   ]
  },
  {
   "cell_type": "code",
   "execution_count": 487,
   "metadata": {},
   "outputs": [],
   "source": [
    "# Total length of pile in rock\n",
    "D_pile = 2\n",
    "\n",
    "# Height of pile considered for 'base'\n",
    "h_pile = D_pile / 2\n",
    "\n",
    "# Height from top of pile to top of column, in metres\n",
    "h_col = 2\n",
    "\n",
    "# Height of headstock in m\n",
    "D_headstock = 1\n",
    "\n",
    "# Thickness of a bearing strip in m\n",
    "t_strip = 0.05\n",
    "\n",
    "# Depth of PSC girder in m\n",
    "D_girder = 0.530\n",
    "\n",
    "# Thickness of deck slab in m\n",
    "t_slab = 0.150\n",
    "\n",
    "# Calculating `h_n` value. Taking the \"uppermost seismic weight\" as the deck level\n",
    "h_n = h_pile + h_col + D_headstock + t_strip + D_girder + t_slab"
   ]
  },
  {
   "cell_type": "markdown",
   "metadata": {},
   "source": [
    "Now the fundamental period of the structure, $T_1$, for each direction considered."
   ]
  },
  {
   "cell_type": "code",
   "execution_count": 488,
   "metadata": {},
   "outputs": [
    {
     "name": "stdout",
     "output_type": "stream",
     "text": [
      "Fundamental period of longitudinal direction is 0.2 seconds.\n",
      "Fundamental period of lateral direction is 0.3 seconds.\n"
     ]
    }
   ],
   "source": [
    "def T1(kt, hn):\n",
    "    \n",
    "    val = 1.25 * kt * (hn ** 0.75)\n",
    "    \n",
    "    return val\n",
    "\n",
    "T1_long = T1(kt_long, h_n)\n",
    "T1_lat = T1(kt_lat, h_n)\n",
    "\n",
    "print(\"Fundamental period of longitudinal direction is\", round(T1_long, 2),\"seconds.\")\n",
    "print(\"Fundamental period of lateral direction is\", round(T1_lat, 2),\"seconds.\")"
   ]
  },
  {
   "cell_type": "markdown",
   "metadata": {},
   "source": [
    "#### 4.2. Site sub-soil class\n",
    "We now need to decide on the site sub-soil class. Generally, Section 4 of AS 1170.4-2007 provides commentary on which site sub-soil class is most appropriate.\n",
    "\n",
    "Clause 15.7 of AS 5100.2-2017 also advises that for bridges with pile-supported foundations (like ours), the site subsoil class shall be based on the **upper layers of the soil profile**. \n",
    "\n",
    "This means that we may decide to adopt a subsoil class based on the embankment fill. In our case, we have fill at the abutments, but the pier is only founded in rock. Here we're going to ignore the presence of the embankment fill and adopt a site sub-soil class of $B_e$ for the foundation in rock."
   ]
  },
  {
   "cell_type": "markdown",
   "metadata": {},
   "source": [
    "#### 4.3. Spectral shape factor\n",
    "With the site sub-soil class and fundamental period, we can now determine the spectral shape factor using either Table 6.4 or Figure 6.4 in AS 1170.4-2007.\n",
    "\n",
    "While we could write a function to more generally determine this value, in our case, the fundamental periods are sufficiently low to read the values off the table directly."
   ]
  },
  {
   "cell_type": "code",
   "execution_count": 489,
   "metadata": {},
   "outputs": [],
   "source": [
    "ChT_long = 2.94\n",
    "ChT_lat = 2.94"
   ]
  },
  {
   "cell_type": "markdown",
   "metadata": {},
   "source": [
    "#### 4.4. Annual probability of exceedance and probability factor\n",
    "The probability factor, $k_p$ is determined in accordance with Clause 15.6 of AS 5100.2-2017. It is based on the **annual probability of exceedance** in Table 15.6. The engineer then refers to Table 3.1 of AS 1170.4-2007 to determine the **probability factor**.\n",
    "\n",
    "In our case, the annual probability of exceedance, $P$, is $\\frac{1}{500}$ (Table 15.6)."
   ]
  },
  {
   "cell_type": "code",
   "execution_count": 490,
   "metadata": {},
   "outputs": [],
   "source": [
    "# Probability factor in accordance with Table 3.1 of AS 1170.4-2007\n",
    "kp = 1.0"
   ]
  },
  {
   "cell_type": "markdown",
   "metadata": {},
   "source": [
    "#### 4.5. Hazard design factor\n",
    "Similarly, the hazard design factor is determined in accordance with either Table 3.2 or Figures 3.2(A) through 3.2(F) of AS 1170.4-2007. Given our location is in the Sutherland Shire of NSW:"
   ]
  },
  {
   "cell_type": "code",
   "execution_count": 491,
   "metadata": {},
   "outputs": [],
   "source": [
    "# Hazard design factor\n",
    "Z = 0.09"
   ]
  },
  {
   "cell_type": "markdown",
   "metadata": {},
   "source": [
    "#### 4.6. Seismic acceleration for _elastic_ horizontal earthquake response\n",
    "Calculating the design action coefficient in accordance with Clause 15.9.1 of AS 5100.2-2017."
   ]
  },
  {
   "cell_type": "markdown",
   "metadata": {},
   "source": [
    "$$ C(T_f) = k_pZC_h(T_f) $$"
   ]
  },
  {
   "cell_type": "markdown",
   "metadata": {},
   "source": [
    "Where:\n",
    "* $k_p$ = probability factor, calculated above\n",
    "* $Z$ = design seismic hazard factor, calculated above\n",
    "* $C_h(T_f)$ = acceleration spectral shape factor at fundamental natural period of vibration of the bridge frame in the direction considered (longitudinal or transverse)"
   ]
  },
  {
   "cell_type": "code",
   "execution_count": 492,
   "metadata": {},
   "outputs": [
    {
     "name": "stdout",
     "output_type": "stream",
     "text": [
      "Coefficient for elastic horizontal response in the longitudinal direction is 0.265\n",
      "Coefficient for elastic horizontal response in the lateral direction is 0.265\n"
     ]
    }
   ],
   "source": [
    "def CTf(kp, Z, ChTf):\n",
    "    \n",
    "    val = kp * Z * ChTf\n",
    "    \n",
    "    return val\n",
    "\n",
    "CTf_long = CTf(kp, Z, ChT_long)\n",
    "CTf_lat = CTf(kp, Z, ChT_lat)\n",
    "\n",
    "print(\"Coefficient for elastic horizontal response in the longitudinal direction is\", round(CTf_long, 3))\n",
    "print(\"Coefficient for elastic horizontal response in the lateral direction is\", round(CTf_lat, 3))"
   ]
  },
  {
   "cell_type": "markdown",
   "metadata": {},
   "source": [
    "#### 4.7. Design ductility factor\n",
    "The design ductility factor, $\\mu$, will differ for the two directions considered (longitudinal and lateral). To determine these values, we consult Table 15.9.2 of AS 5100.2-2017 and its notes.\n",
    "\n",
    "From Question 3 above, we have decided the performance level is **damage control**, so we'd select the appropriate column in the table.\n",
    "\n",
    "For the longitudinal direction, the girders sit on an elastomeric bearing strip providing no translational restraint, so it is most appropriate for us to adopt the configuration:\n",
    "> Superstructure on elastomeric bearings without translational movement restraint in the direction considered\n",
    "\n",
    "For the lateral direction, it is not as simple. In the problem statement, we have not stated there is any lateral restraint (whereas in reality there definitely should be). If this is the case, we'd adopt the same ductility factor as the longitudinal direction.\n",
    "\n",
    "However, if we assume there is a lateral restraint, then you might find it falls into one of the two categories:\n",
    "> Superstructures on fixed pot or spherical bearings or **elastomeric bearings** with translational movement restraint in the direction considered at piers on\n",
    "* stiff foundations (i.e. with negligible translational and rotational movements)\n",
    "* flexible foundations with significant contribution to the displacement at pier top (i.e. piles in 10 m or more of soft soil)\n",
    "\n",
    "> Concrete pier/piles without stiff pile caps\n",
    "\n",
    "We could reasonably fit into any of those categories for the lateral direction. Fortunately, Note 1 to the table tells us that in a situation where more than one category applies, we adopt the lowest design ductility factor.\n",
    "\n",
    "The resulting factors:"
   ]
  },
  {
   "cell_type": "code",
   "execution_count": 493,
   "metadata": {},
   "outputs": [],
   "source": [
    "mu_long = 1.5\n",
    "mu_lat = 2.0"
   ]
  },
  {
   "cell_type": "markdown",
   "metadata": {},
   "source": [
    "#### 4.8. Seismic acceleration for _ductile_ horizontal earthquake response\n",
    "Calculating the design action coefficient in accordance with Clause 15.9.2 of AS 5100.2-2017."
   ]
  },
  {
   "cell_type": "markdown",
   "metadata": {},
   "source": [
    "$$ C_d(T_f) = \\frac{C(T_f)}{\\mu} $$"
   ]
  },
  {
   "cell_type": "markdown",
   "metadata": {},
   "source": [
    "Where:\n",
    "* $C(T_f)$ = design action coefficient for **elastic** horizontal earthquake response, as above\n",
    "* $\\mu$ = design ductility factor"
   ]
  },
  {
   "cell_type": "code",
   "execution_count": 494,
   "metadata": {},
   "outputs": [
    {
     "name": "stdout",
     "output_type": "stream",
     "text": [
      "Coefficient for ductile horizontal response in the longitudinal direction is 0.176\n",
      "Coefficient for ductile horizontal response in the lateral direction is 0.132\n"
     ]
    }
   ],
   "source": [
    "def CdTf(CTf, mu):\n",
    "    \n",
    "    val = CTf / mu\n",
    "    \n",
    "    return val\n",
    "\n",
    "CdTf_long = CdTf(CTf_long, mu_long)\n",
    "CdTf_lat = CdTf(CTf_lat, mu_lat)\n",
    "\n",
    "print(\"Coefficient for ductile horizontal response in the longitudinal direction is\", round(CdTf_long, 3))\n",
    "print(\"Coefficient for ductile horizontal response in the lateral direction is\", round(CdTf_lat, 3))"
   ]
  },
  {
   "cell_type": "markdown",
   "metadata": {},
   "source": [
    "#### 4.9. Bridge frame horizontal earthquake force\n",
    "For each bridge frame (see Section 15.2 of AS 5100.2-2017) we will calculate the horizontal earthquake force. We would then like to apply these horizontal forces at the centroid of each seismic mass, so we'll calculate them independently and then sum them at the end for our total horizontal force.\n",
    "\n",
    "The elements we'll consider:\n",
    "* PSC girders\n",
    "* Reinforced concrete deck\n",
    "* Reinforced concrete headstocks\n",
    "* Columns (including those in embankment fill) above the rock level\n",
    "\n",
    "Since we need to consider each frame separately, and our bridge is symmetrical, we'll just look at one frame. Properties for the PSC girder are taken from the [SCI website](http://www.sciaust.com.au/desroadplanks.html)."
   ]
  },
  {
   "cell_type": "markdown",
   "metadata": {},
   "source": [
    "$$ F_F = C_d(T_f)\\sum_{i-1}^{n}W_i $$"
   ]
  },
  {
   "cell_type": "markdown",
   "metadata": {},
   "source": [
    "Where:\n",
    "* $W_i$ = one of the $n$ seismic weights in the bridge frame\n",
    "* $C_d(T_f)$ = value of the design action coefficient for ductile response"
   ]
  },
  {
   "cell_type": "code",
   "execution_count": 495,
   "metadata": {},
   "outputs": [
    {
     "name": "stdout",
     "output_type": "stream",
     "text": [
      "Bridge frame horizontal earthquake force in the longitudinal direction is 294.4 kN\n",
      "Bridge frame horizontal earthquake force in the lateral direction is 220.8 kN\n"
     ]
    }
   ],
   "source": [
    "import numpy as np\n",
    "\n",
    "# Mass of a girder in kg/m\n",
    "mg = 600\n",
    "\n",
    "# Length of a girder in mm\n",
    "L = 15000\n",
    "\n",
    "# Depth of girder in mm\n",
    "Dg = 535\n",
    "\n",
    "# Width of a girder\n",
    "bg = 600\n",
    "\n",
    "# Total deck width in mm\n",
    "B = 6000\n",
    "\n",
    "# Slab thickness in mm\n",
    "ts = 150\n",
    "\n",
    "# Number of girders\n",
    "ng = B / bg\n",
    "\n",
    "# Unit weight of in-situ reinforced concrete in kN/m**3\n",
    "gamma_c = 25\n",
    "\n",
    "# Total weight of the deck, in kN\n",
    "W_deck = ((gamma_c * ts * B / (1000**2)) + (mg * 9.81 / 1000 * ng)) * L / 1000\n",
    "\n",
    "# Total weight of the headstock\n",
    "D_headstock = 1000\n",
    "B_headstock = 1200\n",
    "W_headstock = B_headstock * D_headstock * B * gamma_c / (1000**2) / 1000\n",
    "\n",
    "# Weight of pier columns\n",
    "D_col = 750\n",
    "n_col = 2\n",
    "L_col = 2000\n",
    "A_col = np.pi * (D_col**2) / 4 * n_col\n",
    "W_cols = A_col * L_col * gamma_c / (1000**2) / 1000\n",
    "\n",
    "# Bridge frame horizontal earthquake force in kN, in line with Clause 15.10.1 of AS 5100.2-2017\n",
    "Ff_deck_long = CdTf_long * W_deck\n",
    "Ff_headstock_long = CdTf_long * W_headstock\n",
    "Ff_col_long = CdTf_long * W_cols\n",
    "Ff_long = Ff_deck_long + (2 * Ff_headstock_long) + (2 * Ff_col_long)\n",
    "\n",
    "Ff_deck_lat = CdTf_lat * W_deck\n",
    "Ff_headstock_lat = CdTf_lat * W_headstock\n",
    "Ff_col_lat = CdTf_lat * W_cols\n",
    "Ff_lat = Ff_deck_lat + (2 * Ff_headstock_lat) + (2 * Ff_col_lat)\n",
    "\n",
    "print(\"Bridge frame horizontal earthquake force in the longitudinal direction is\", round(Ff_long,1), \"kN\")\n",
    "print(\"Bridge frame horizontal earthquake force in the lateral direction is\", round(Ff_lat,1), \"kN\")"
   ]
  },
  {
   "cell_type": "markdown",
   "metadata": {},
   "source": [
    "### 5. Determine the bridge frame vertical earthquake force\n",
    "* Not required for BEDC-2\n",
    "* See Clause 15.4.3 of AS 5100.2-2017\n",
    "* If it was required by the asset owner (not required by AS 5100) then you would take two-thirds of the design action coefficient for the **elastic** horizontal response. See Clause 15.9.3 of AS 5100.2-2017"
   ]
  },
  {
   "cell_type": "markdown",
   "metadata": {},
   "source": [
    "### 6. Describe how you would use these forces to determine the earthquake design actions on bridge members.\n",
    "* Model each frame separately\n",
    "* Calculate the horizontal force for each seismic mass and apply at its centroid\n",
    "* See Clause 15.2 of AS 5100.2-2017 for further commentary"
   ]
  }
 ],
 "metadata": {
  "kernelspec": {
   "display_name": "Python 3",
   "language": "python",
   "name": "python3"
  },
  "language_info": {
   "codemirror_mode": {
    "name": "ipython",
    "version": 3
   },
   "file_extension": ".py",
   "mimetype": "text/x-python",
   "name": "python",
   "nbconvert_exporter": "python",
   "pygments_lexer": "ipython3",
   "version": "3.7.3"
  }
 },
 "nbformat": 4,
 "nbformat_minor": 2
}
